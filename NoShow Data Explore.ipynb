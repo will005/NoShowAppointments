{
 "cells": [
  {
   "cell_type": "code",
   "execution_count": 1,
   "metadata": {},
   "outputs": [],
   "source": [
    "import numpy as np\n",
    "import pandas as pd\n",
    "%matplotlib inline\n",
    "import matplotlib.pyplot as plt\n",
    "from datetime import datetime as dt\n",
    "import seaborn as sns\n",
    "\n",
    "#loading in the file\n",
    "df= pd.read_csv('noshowappointments-kagglev2-may-2016.csv')"
   ]
  },
  {
   "cell_type": "code",
   "execution_count": 2,
   "metadata": {},
   "outputs": [
    {
     "data": {
      "text/html": [
       "<div>\n",
       "<style scoped>\n",
       "    .dataframe tbody tr th:only-of-type {\n",
       "        vertical-align: middle;\n",
       "    }\n",
       "\n",
       "    .dataframe tbody tr th {\n",
       "        vertical-align: top;\n",
       "    }\n",
       "\n",
       "    .dataframe thead th {\n",
       "        text-align: right;\n",
       "    }\n",
       "</style>\n",
       "<table border=\"1\" class=\"dataframe\">\n",
       "  <thead>\n",
       "    <tr style=\"text-align: right;\">\n",
       "      <th></th>\n",
       "      <th>PatientId</th>\n",
       "      <th>AppointmentID</th>\n",
       "      <th>Gender</th>\n",
       "      <th>ScheduledDay</th>\n",
       "      <th>AppointmentDay</th>\n",
       "      <th>Age</th>\n",
       "      <th>Neighbourhood</th>\n",
       "      <th>Scholarship</th>\n",
       "      <th>Hipertension</th>\n",
       "      <th>Diabetes</th>\n",
       "      <th>Alcoholism</th>\n",
       "      <th>Handcap</th>\n",
       "      <th>SMS_received</th>\n",
       "      <th>No-show</th>\n",
       "    </tr>\n",
       "  </thead>\n",
       "  <tbody>\n",
       "    <tr>\n",
       "      <th>0</th>\n",
       "      <td>2.987250e+13</td>\n",
       "      <td>5642903</td>\n",
       "      <td>F</td>\n",
       "      <td>2016-04-29T18:38:08Z</td>\n",
       "      <td>2016-04-29T00:00:00Z</td>\n",
       "      <td>62</td>\n",
       "      <td>JARDIM DA PENHA</td>\n",
       "      <td>0</td>\n",
       "      <td>1</td>\n",
       "      <td>0</td>\n",
       "      <td>0</td>\n",
       "      <td>0</td>\n",
       "      <td>0</td>\n",
       "      <td>No</td>\n",
       "    </tr>\n",
       "    <tr>\n",
       "      <th>1</th>\n",
       "      <td>5.589978e+14</td>\n",
       "      <td>5642503</td>\n",
       "      <td>M</td>\n",
       "      <td>2016-04-29T16:08:27Z</td>\n",
       "      <td>2016-04-29T00:00:00Z</td>\n",
       "      <td>56</td>\n",
       "      <td>JARDIM DA PENHA</td>\n",
       "      <td>0</td>\n",
       "      <td>0</td>\n",
       "      <td>0</td>\n",
       "      <td>0</td>\n",
       "      <td>0</td>\n",
       "      <td>0</td>\n",
       "      <td>No</td>\n",
       "    </tr>\n",
       "    <tr>\n",
       "      <th>2</th>\n",
       "      <td>4.262962e+12</td>\n",
       "      <td>5642549</td>\n",
       "      <td>F</td>\n",
       "      <td>2016-04-29T16:19:04Z</td>\n",
       "      <td>2016-04-29T00:00:00Z</td>\n",
       "      <td>62</td>\n",
       "      <td>MATA DA PRAIA</td>\n",
       "      <td>0</td>\n",
       "      <td>0</td>\n",
       "      <td>0</td>\n",
       "      <td>0</td>\n",
       "      <td>0</td>\n",
       "      <td>0</td>\n",
       "      <td>No</td>\n",
       "    </tr>\n",
       "    <tr>\n",
       "      <th>3</th>\n",
       "      <td>8.679512e+11</td>\n",
       "      <td>5642828</td>\n",
       "      <td>F</td>\n",
       "      <td>2016-04-29T17:29:31Z</td>\n",
       "      <td>2016-04-29T00:00:00Z</td>\n",
       "      <td>8</td>\n",
       "      <td>PONTAL DE CAMBURI</td>\n",
       "      <td>0</td>\n",
       "      <td>0</td>\n",
       "      <td>0</td>\n",
       "      <td>0</td>\n",
       "      <td>0</td>\n",
       "      <td>0</td>\n",
       "      <td>No</td>\n",
       "    </tr>\n",
       "    <tr>\n",
       "      <th>4</th>\n",
       "      <td>8.841186e+12</td>\n",
       "      <td>5642494</td>\n",
       "      <td>F</td>\n",
       "      <td>2016-04-29T16:07:23Z</td>\n",
       "      <td>2016-04-29T00:00:00Z</td>\n",
       "      <td>56</td>\n",
       "      <td>JARDIM DA PENHA</td>\n",
       "      <td>0</td>\n",
       "      <td>1</td>\n",
       "      <td>1</td>\n",
       "      <td>0</td>\n",
       "      <td>0</td>\n",
       "      <td>0</td>\n",
       "      <td>No</td>\n",
       "    </tr>\n",
       "  </tbody>\n",
       "</table>\n",
       "</div>"
      ],
      "text/plain": [
       "      PatientId  AppointmentID Gender          ScheduledDay  \\\n",
       "0  2.987250e+13        5642903      F  2016-04-29T18:38:08Z   \n",
       "1  5.589978e+14        5642503      M  2016-04-29T16:08:27Z   \n",
       "2  4.262962e+12        5642549      F  2016-04-29T16:19:04Z   \n",
       "3  8.679512e+11        5642828      F  2016-04-29T17:29:31Z   \n",
       "4  8.841186e+12        5642494      F  2016-04-29T16:07:23Z   \n",
       "\n",
       "         AppointmentDay  Age      Neighbourhood  Scholarship  Hipertension  \\\n",
       "0  2016-04-29T00:00:00Z   62    JARDIM DA PENHA            0             1   \n",
       "1  2016-04-29T00:00:00Z   56    JARDIM DA PENHA            0             0   \n",
       "2  2016-04-29T00:00:00Z   62      MATA DA PRAIA            0             0   \n",
       "3  2016-04-29T00:00:00Z    8  PONTAL DE CAMBURI            0             0   \n",
       "4  2016-04-29T00:00:00Z   56    JARDIM DA PENHA            0             1   \n",
       "\n",
       "   Diabetes  Alcoholism  Handcap  SMS_received No-show  \n",
       "0         0           0        0             0      No  \n",
       "1         0           0        0             0      No  \n",
       "2         0           0        0             0      No  \n",
       "3         0           0        0             0      No  \n",
       "4         1           0        0             0      No  "
      ]
     },
     "execution_count": 2,
     "metadata": {},
     "output_type": "execute_result"
    }
   ],
   "source": [
    "# check to see if the file loaded \n",
    "df.head()"
   ]
  },
  {
   "cell_type": "code",
   "execution_count": 3,
   "metadata": {},
   "outputs": [
    {
     "data": {
      "text/html": [
       "<div>\n",
       "<style scoped>\n",
       "    .dataframe tbody tr th:only-of-type {\n",
       "        vertical-align: middle;\n",
       "    }\n",
       "\n",
       "    .dataframe tbody tr th {\n",
       "        vertical-align: top;\n",
       "    }\n",
       "\n",
       "    .dataframe thead th {\n",
       "        text-align: right;\n",
       "    }\n",
       "</style>\n",
       "<table border=\"1\" class=\"dataframe\">\n",
       "  <thead>\n",
       "    <tr style=\"text-align: right;\">\n",
       "      <th></th>\n",
       "      <th>PatientId</th>\n",
       "      <th>AppointmentID</th>\n",
       "      <th>Age</th>\n",
       "      <th>Scholarship</th>\n",
       "      <th>Hipertension</th>\n",
       "      <th>Diabetes</th>\n",
       "      <th>Alcoholism</th>\n",
       "      <th>Handcap</th>\n",
       "      <th>SMS_received</th>\n",
       "    </tr>\n",
       "  </thead>\n",
       "  <tbody>\n",
       "    <tr>\n",
       "      <th>count</th>\n",
       "      <td>1.105270e+05</td>\n",
       "      <td>1.105270e+05</td>\n",
       "      <td>110527.000000</td>\n",
       "      <td>110527.000000</td>\n",
       "      <td>110527.000000</td>\n",
       "      <td>110527.000000</td>\n",
       "      <td>110527.000000</td>\n",
       "      <td>110527.000000</td>\n",
       "      <td>110527.000000</td>\n",
       "    </tr>\n",
       "    <tr>\n",
       "      <th>mean</th>\n",
       "      <td>1.474963e+14</td>\n",
       "      <td>5.675305e+06</td>\n",
       "      <td>37.088874</td>\n",
       "      <td>0.098266</td>\n",
       "      <td>0.197246</td>\n",
       "      <td>0.071865</td>\n",
       "      <td>0.030400</td>\n",
       "      <td>0.022248</td>\n",
       "      <td>0.321026</td>\n",
       "    </tr>\n",
       "    <tr>\n",
       "      <th>std</th>\n",
       "      <td>2.560949e+14</td>\n",
       "      <td>7.129575e+04</td>\n",
       "      <td>23.110205</td>\n",
       "      <td>0.297675</td>\n",
       "      <td>0.397921</td>\n",
       "      <td>0.258265</td>\n",
       "      <td>0.171686</td>\n",
       "      <td>0.161543</td>\n",
       "      <td>0.466873</td>\n",
       "    </tr>\n",
       "    <tr>\n",
       "      <th>min</th>\n",
       "      <td>3.921784e+04</td>\n",
       "      <td>5.030230e+06</td>\n",
       "      <td>-1.000000</td>\n",
       "      <td>0.000000</td>\n",
       "      <td>0.000000</td>\n",
       "      <td>0.000000</td>\n",
       "      <td>0.000000</td>\n",
       "      <td>0.000000</td>\n",
       "      <td>0.000000</td>\n",
       "    </tr>\n",
       "    <tr>\n",
       "      <th>25%</th>\n",
       "      <td>4.172614e+12</td>\n",
       "      <td>5.640286e+06</td>\n",
       "      <td>18.000000</td>\n",
       "      <td>0.000000</td>\n",
       "      <td>0.000000</td>\n",
       "      <td>0.000000</td>\n",
       "      <td>0.000000</td>\n",
       "      <td>0.000000</td>\n",
       "      <td>0.000000</td>\n",
       "    </tr>\n",
       "    <tr>\n",
       "      <th>50%</th>\n",
       "      <td>3.173184e+13</td>\n",
       "      <td>5.680573e+06</td>\n",
       "      <td>37.000000</td>\n",
       "      <td>0.000000</td>\n",
       "      <td>0.000000</td>\n",
       "      <td>0.000000</td>\n",
       "      <td>0.000000</td>\n",
       "      <td>0.000000</td>\n",
       "      <td>0.000000</td>\n",
       "    </tr>\n",
       "    <tr>\n",
       "      <th>75%</th>\n",
       "      <td>9.439172e+13</td>\n",
       "      <td>5.725524e+06</td>\n",
       "      <td>55.000000</td>\n",
       "      <td>0.000000</td>\n",
       "      <td>0.000000</td>\n",
       "      <td>0.000000</td>\n",
       "      <td>0.000000</td>\n",
       "      <td>0.000000</td>\n",
       "      <td>1.000000</td>\n",
       "    </tr>\n",
       "    <tr>\n",
       "      <th>max</th>\n",
       "      <td>9.999816e+14</td>\n",
       "      <td>5.790484e+06</td>\n",
       "      <td>115.000000</td>\n",
       "      <td>1.000000</td>\n",
       "      <td>1.000000</td>\n",
       "      <td>1.000000</td>\n",
       "      <td>1.000000</td>\n",
       "      <td>4.000000</td>\n",
       "      <td>1.000000</td>\n",
       "    </tr>\n",
       "  </tbody>\n",
       "</table>\n",
       "</div>"
      ],
      "text/plain": [
       "          PatientId  AppointmentID            Age    Scholarship  \\\n",
       "count  1.105270e+05   1.105270e+05  110527.000000  110527.000000   \n",
       "mean   1.474963e+14   5.675305e+06      37.088874       0.098266   \n",
       "std    2.560949e+14   7.129575e+04      23.110205       0.297675   \n",
       "min    3.921784e+04   5.030230e+06      -1.000000       0.000000   \n",
       "25%    4.172614e+12   5.640286e+06      18.000000       0.000000   \n",
       "50%    3.173184e+13   5.680573e+06      37.000000       0.000000   \n",
       "75%    9.439172e+13   5.725524e+06      55.000000       0.000000   \n",
       "max    9.999816e+14   5.790484e+06     115.000000       1.000000   \n",
       "\n",
       "        Hipertension       Diabetes     Alcoholism        Handcap  \\\n",
       "count  110527.000000  110527.000000  110527.000000  110527.000000   \n",
       "mean        0.197246       0.071865       0.030400       0.022248   \n",
       "std         0.397921       0.258265       0.171686       0.161543   \n",
       "min         0.000000       0.000000       0.000000       0.000000   \n",
       "25%         0.000000       0.000000       0.000000       0.000000   \n",
       "50%         0.000000       0.000000       0.000000       0.000000   \n",
       "75%         0.000000       0.000000       0.000000       0.000000   \n",
       "max         1.000000       1.000000       1.000000       4.000000   \n",
       "\n",
       "        SMS_received  \n",
       "count  110527.000000  \n",
       "mean        0.321026  \n",
       "std         0.466873  \n",
       "min         0.000000  \n",
       "25%         0.000000  \n",
       "50%         0.000000  \n",
       "75%         1.000000  \n",
       "max         1.000000  "
      ]
     },
     "execution_count": 3,
     "metadata": {},
     "output_type": "execute_result"
    }
   ],
   "source": [
    "df.describe()"
   ]
  },
  {
   "cell_type": "markdown",
   "metadata": {},
   "source": [
    "## Data wrangle and cleaning\n",
    "First thing I notice is that there are some typos in the column names that need updating.  Looking at the means from the describe function, we notice that the \"Age\" column has a minimum value of -1, which will need to be removed.  Also the \"PatientId\" and \"AppointmentID\" do not seem to be important in our analysis, thus, we will remove them.  Lastly, I'd like to change the date format into datetime. "
   ]
  },
  {
   "cell_type": "markdown",
   "metadata": {},
   "source": [
    "### a) Renaming columns"
   ]
  },
  {
   "cell_type": "code",
   "execution_count": 4,
   "metadata": {},
   "outputs": [
    {
     "data": {
      "text/plain": [
       "Index(['PatientId', 'AppointmentID', 'Gender', 'ScheduledDay',\n",
       "       'AppointmentDay', 'Age', 'Neighborhood', 'Scholarship', 'Hypertension',\n",
       "       'Diabetes', 'Alcoholism', 'Handicap', 'SMS_received', 'No-show'],\n",
       "      dtype='object')"
      ]
     },
     "execution_count": 4,
     "metadata": {},
     "output_type": "execute_result"
    }
   ],
   "source": [
    "df.rename(columns={'Hipertension': 'Hypertension', 'Handcap': 'Handicap', 'Neighbourhood': 'Neighborhood'}, inplace=True)\n",
    "\n",
    "#check to see if the changes took hold\n",
    "df.columns"
   ]
  },
  {
   "cell_type": "markdown",
   "metadata": {},
   "source": [
    "### b) Dropping columns"
   ]
  },
  {
   "cell_type": "code",
   "execution_count": 5,
   "metadata": {},
   "outputs": [
    {
     "data": {
      "text/plain": [
       "Index(['Gender', 'ScheduledDay', 'AppointmentDay', 'Age', 'Neighborhood',\n",
       "       'Scholarship', 'Hypertension', 'Diabetes', 'Alcoholism', 'Handicap',\n",
       "       'SMS_received', 'No-show'],\n",
       "      dtype='object')"
      ]
     },
     "execution_count": 5,
     "metadata": {},
     "output_type": "execute_result"
    }
   ],
   "source": [
    "df.drop(labels=(['PatientId', 'AppointmentID']), axis=1, inplace=True)\n",
    "\n",
    "#check \n",
    "df.columns"
   ]
  },
  {
   "cell_type": "markdown",
   "metadata": {},
   "source": [
    "### c) Dropping the minimum value in Age column"
   ]
  },
  {
   "cell_type": "code",
   "execution_count": 6,
   "metadata": {},
   "outputs": [
    {
     "data": {
      "text/plain": [
       "count    110526.000000\n",
       "mean         37.089219\n",
       "std          23.110026\n",
       "min           0.000000\n",
       "25%          18.000000\n",
       "50%          37.000000\n",
       "75%          55.000000\n",
       "max         115.000000\n",
       "Name: Age, dtype: float64"
      ]
     },
     "execution_count": 6,
     "metadata": {},
     "output_type": "execute_result"
    }
   ],
   "source": [
    "df = df[(df['Age'] >= 0)]\n",
    "\n",
    "#check\n",
    "df['Age'].describe()"
   ]
  },
  {
   "cell_type": "markdown",
   "metadata": {},
   "source": [
    "### d) Checking for error values/NaNs"
   ]
  },
  {
   "cell_type": "code",
   "execution_count": 7,
   "metadata": {},
   "outputs": [
    {
     "name": "stdout",
     "output_type": "stream",
     "text": [
      "Age: [0, 1, 2, 3, 4, 5, 6, 7, 8, 9, 10, 11, 12, 13, 14, 15, 16, 17, 18, 19, 20, 21, 22, 23, 24, 25, 26, 27, 28, 29, 30, 31, 32, 33, 34, 35, 36, 37, 38, 39, 40, 41, 42, 43, 44, 45, 46, 47, 48, 49, 50, 51, 52, 53, 54, 55, 56, 57, 58, 59, 60, 61, 62, 63, 64, 65, 66, 67, 68, 69, 70, 71, 72, 73, 74, 75, 76, 77, 78, 79, 80, 81, 82, 83, 84, 85, 86, 87, 88, 89, 90, 91, 92, 93, 94, 95, 96, 97, 98, 99, 100, 102, 115]\n",
      "Gender: ['F' 'M']\n",
      "Hypertension: [1 0]\n",
      "Alcoholism: [0 1]\n",
      "Handicap: [0 1 2 3 4]\n",
      "Scholarship: [0 1]\n",
      "SMS_received: [0 1]\n",
      "No-show: ['No' 'Yes']\n",
      "Scheduled Day: ['2016-04-29T18:38:08Z' '2016-04-29T16:08:27Z' '2016-04-29T16:19:04Z' ...\n",
      " '2016-04-27T16:03:52Z' '2016-04-27T15:09:23Z' '2016-04-27T13:30:56Z']\n"
     ]
    }
   ],
   "source": [
    "print('Age:', sorted(df['Age'].unique()))\n",
    "print('Gender:', df['Gender'].unique())\n",
    "print('Hypertension:', df['Hypertension'].unique())\n",
    "print('Alcoholism:', df['Alcoholism'].unique())\n",
    "print('Handicap:', df['Handicap'].unique())\n",
    "print('Scholarship:', df['Scholarship'].unique())\n",
    "print('SMS_received:', df['SMS_received'].unique())\n",
    "print('No-show:', df['No-show'].unique())\n",
    "#print('Appointment Date:', df['AppointmentDay'].unique())\n",
    "print('Scheduled Day:', df['ScheduledDay'].unique())"
   ]
  },
  {
   "cell_type": "markdown",
   "metadata": {},
   "source": [
    "### e) Datetime conversion"
   ]
  },
  {
   "cell_type": "code",
   "execution_count": 8,
   "metadata": {},
   "outputs": [],
   "source": [
    "appointmentDay = pd.to_datetime(df.AppointmentDay).dt.date\n",
    "scheduledDay = pd.to_datetime(df.ScheduledDay).dt.date"
   ]
  },
  {
   "cell_type": "code",
   "execution_count": 9,
   "metadata": {},
   "outputs": [
    {
     "data": {
      "text/plain": [
       "count    110526.000000\n",
       "mean         10.183794\n",
       "std          15.255034\n",
       "min          -6.000000\n",
       "25%           0.000000\n",
       "50%           4.000000\n",
       "75%          15.000000\n",
       "max         179.000000\n",
       "Name: wait_days, dtype: float64"
      ]
     },
     "execution_count": 9,
     "metadata": {},
     "output_type": "execute_result"
    }
   ],
   "source": [
    "# creating a window between appointment and scheduled days\n",
    "df['wait_days'] = (appointmentDay - scheduledDay).dt.days\n",
    "df['wait_days'].describe()"
   ]
  },
  {
   "cell_type": "code",
   "execution_count": 10,
   "metadata": {},
   "outputs": [
    {
     "data": {
      "text/plain": [
       "count    110521.000000\n",
       "mean         10.184345\n",
       "std          15.255153\n",
       "min           0.000000\n",
       "25%           0.000000\n",
       "50%           4.000000\n",
       "75%          15.000000\n",
       "max         179.000000\n",
       "Name: wait_days, dtype: float64"
      ]
     },
     "execution_count": 10,
     "metadata": {},
     "output_type": "execute_result"
    }
   ],
   "source": [
    "#we can see that the minium values contain negative values, thus, we will remove them\n",
    "df = df[(df['wait_days'] >= 0)]\n",
    "\n",
    "#check\n",
    "df['wait_days'].describe()"
   ]
  },
  {
   "cell_type": "code",
   "execution_count": 11,
   "metadata": {},
   "outputs": [
    {
     "name": "stdout",
     "output_type": "stream",
     "text": [
      "Weekday: [1, 2, 3, 4, 5, 6]\n"
     ]
    }
   ],
   "source": [
    "# creating a weekday column\n",
    "df['Weekday'] = pd.to_datetime(df['AppointmentDay']).apply(lambda x: x.isoweekday())\n",
    "\n",
    "#check\n",
    "print('Weekday:', sorted(df['Weekday'].unique()))"
   ]
  },
  {
   "cell_type": "code",
   "execution_count": 12,
   "metadata": {},
   "outputs": [
    {
     "name": "stdout",
     "output_type": "stream",
     "text": [
      "<class 'pandas.core.frame.DataFrame'>\n",
      "Int64Index: 110521 entries, 0 to 110526\n",
      "Data columns (total 14 columns):\n",
      "Gender            110521 non-null object\n",
      "ScheduledDay      110521 non-null object\n",
      "AppointmentDay    110521 non-null object\n",
      "Age               110521 non-null int64\n",
      "Neighborhood      110521 non-null object\n",
      "Scholarship       110521 non-null int64\n",
      "Hypertension      110521 non-null int64\n",
      "Diabetes          110521 non-null int64\n",
      "Alcoholism        110521 non-null int64\n",
      "Handicap          110521 non-null int64\n",
      "SMS_received      110521 non-null int64\n",
      "No-show           110521 non-null object\n",
      "wait_days         110521 non-null int64\n",
      "Weekday           110521 non-null int64\n",
      "dtypes: int64(9), object(5)\n",
      "memory usage: 12.6+ MB\n"
     ]
    }
   ],
   "source": [
    "df.info()"
   ]
  },
  {
   "cell_type": "markdown",
   "metadata": {},
   "source": [
    "## Overall No-show and gender analysis"
   ]
  },
  {
   "cell_type": "code",
   "execution_count": 13,
   "metadata": {},
   "outputs": [
    {
     "data": {
      "text/plain": [
       "array(['Attend', 'Noshow'], dtype=object)"
      ]
     },
     "execution_count": 13,
     "metadata": {},
     "output_type": "execute_result"
    }
   ],
   "source": [
    "# I want to the values describing the No-Show column as I find it a tad confusing. No-show = 0\n",
    "#df['No-show'] = df['No-show'].replace({'No':1, 'Yes':0},inplace = True)\n",
    "df['No-show']=df['No-show'].str.replace('No' , 'Attend')\n",
    "df['No-show']=df['No-show'].str.replace('Yes' , 'Noshow')\n",
    "\n",
    "\n",
    "#check\n",
    "df['No-show'].unique()"
   ]
  },
  {
   "cell_type": "code",
   "execution_count": 14,
   "metadata": {},
   "outputs": [
    {
     "data": {
      "image/png": "[encoded data removed]",
      "text/plain": [
       "<Figure size 432x288 with 1 Axes>"
      ]
     },
     "metadata": {},
     "output_type": "display_data"
    },
    {
     "data": {
      "text/plain": [
       "Attend    88207\n",
       "Noshow    22314\n",
       "Name: No-show, dtype: int64"
      ]
     },
     "execution_count": 14,
     "metadata": {},
     "output_type": "execute_result"
    }
   ],
   "source": [
    "#simple countplot showing Attendance vs No-show\n",
    "sns.set_style('whitegrid')\n",
    "sns.set_context('paper')\n",
    "sns.countplot(x = 'No-show', data = df)\n",
    "plt.title('Appointment attendance in Brazil', fontsize=15)\n",
    "plt.xlabel('Show vs Noshow', fontsize =14)\n",
    "plt.ylabel('Patients', fontsize = 14)\n",
    "plt.show()\n",
    "\n",
    "df['No-show'].value_counts()"
   ]
  },
  {
   "cell_type": "code",
   "execution_count": 15,
   "metadata": {},
   "outputs": [
    {
     "name": "stdout",
     "output_type": "stream",
     "text": [
      "The percentage of patients that do not attend appointments is 20.19%\n"
     ]
    }
   ],
   "source": [
    "noshow = df['No-show'].value_counts()\n",
    "percent_ns = noshow[1]/noshow.sum() * 100\n",
    "print(\"The percentage of patients that do not attend appointments is {}%\".format(round(percent_ns,3)))"
   ]
  },
  {
   "cell_type": "code",
   "execution_count": 16,
   "metadata": {},
   "outputs": [
    {
     "data": {
      "image/png": "[encoded data removed]",
      "text/plain": [
       "<Figure size 432x288 with 1 Axes>"
      ]
     },
     "metadata": {},
     "output_type": "display_data"
    },
    {
     "data": {
      "text/plain": [
       "F    71836\n",
       "M    38685\n",
       "Name: Gender, dtype: int64"
      ]
     },
     "execution_count": 16,
     "metadata": {},
     "output_type": "execute_result"
    }
   ],
   "source": [
    "sns.set_style('whitegrid')\n",
    "sns.set_context('paper')\n",
    "sns.countplot(x = 'Gender', hue ='No-show', data = df)\n",
    "plt.title('Gender and appointment attendance', fontsize=15)\n",
    "plt.xlabel('Gender', fontsize =14)\n",
    "plt.ylabel('Patients', fontsize = 14)\n",
    "plt.legend(loc=1, fontsize=12)\n",
    "plt.show()\n",
    "\n",
    "df['Gender'].value_counts()"
   ]
  },
  {
   "cell_type": "code",
   "execution_count": 17,
   "metadata": {},
   "outputs": [
    {
     "name": "stdout",
     "output_type": "stream",
     "text": [
      "The percentage of patients that are male: 35.002%\n",
      "The percentage of patients that are female: 64.998%\n"
     ]
    }
   ],
   "source": [
    "gender = df['Gender'].value_counts()\n",
    "percent_male = gender[1]/gender.sum() * 100\n",
    "percent_female = gender[0]/gender.sum() * 100\n",
    "print(\"The percentage of patients that are male: {}%\".format(round(percent_male,3)))\n",
    "print(\"The percentage of patients that are female: {}%\".format(round(percent_female,3)))"
   ]
  },
  {
   "cell_type": "code",
   "execution_count": 82,
   "metadata": {},
   "outputs": [
    {
     "data": {
      "text/html": [
       "<div>\n",
       "<style scoped>\n",
       "    .dataframe tbody tr th:only-of-type {\n",
       "        vertical-align: middle;\n",
       "    }\n",
       "\n",
       "    .dataframe tbody tr th {\n",
       "        vertical-align: top;\n",
       "    }\n",
       "\n",
       "    .dataframe thead th {\n",
       "        text-align: right;\n",
       "    }\n",
       "</style>\n",
       "<table border=\"1\" class=\"dataframe\">\n",
       "  <thead>\n",
       "    <tr style=\"text-align: right;\">\n",
       "      <th></th>\n",
       "      <th></th>\n",
       "      <th>Age</th>\n",
       "      <th>Scholarship</th>\n",
       "      <th>Hypertension</th>\n",
       "      <th>Diabetes</th>\n",
       "      <th>Alcoholism</th>\n",
       "      <th>Handicap</th>\n",
       "      <th>SMS_received</th>\n",
       "      <th>wait_days</th>\n",
       "      <th>Weekday</th>\n",
       "    </tr>\n",
       "    <tr>\n",
       "      <th>No-show</th>\n",
       "      <th>Gender</th>\n",
       "      <th></th>\n",
       "      <th></th>\n",
       "      <th></th>\n",
       "      <th></th>\n",
       "      <th></th>\n",
       "      <th></th>\n",
       "      <th></th>\n",
       "      <th></th>\n",
       "      <th></th>\n",
       "    </tr>\n",
       "  </thead>\n",
       "  <tbody>\n",
       "    <tr>\n",
       "      <th rowspan=\"2\" valign=\"top\">Attend</th>\n",
       "      <th>F</th>\n",
       "      <td>39.591126</td>\n",
       "      <td>0.117862</td>\n",
       "      <td>0.221539</td>\n",
       "      <td>0.080164</td>\n",
       "      <td>0.015984</td>\n",
       "      <td>0.019792</td>\n",
       "      <td>0.305389</td>\n",
       "      <td>9.093318</td>\n",
       "      <td>2.856075</td>\n",
       "    </tr>\n",
       "    <tr>\n",
       "      <th>M</th>\n",
       "      <td>34.461372</td>\n",
       "      <td>0.049609</td>\n",
       "      <td>0.172696</td>\n",
       "      <td>0.062141</td>\n",
       "      <td>0.057102</td>\n",
       "      <td>0.028196</td>\n",
       "      <td>0.265358</td>\n",
       "      <td>8.128803</td>\n",
       "      <td>2.860022</td>\n",
       "    </tr>\n",
       "    <tr>\n",
       "      <th rowspan=\"2\" valign=\"top\">Noshow</th>\n",
       "      <th>F</th>\n",
       "      <td>36.161264</td>\n",
       "      <td>0.144336</td>\n",
       "      <td>0.182099</td>\n",
       "      <td>0.069701</td>\n",
       "      <td>0.021109</td>\n",
       "      <td>0.018505</td>\n",
       "      <td>0.460558</td>\n",
       "      <td>16.030635</td>\n",
       "      <td>2.847440</td>\n",
       "    </tr>\n",
       "    <tr>\n",
       "      <th>M</th>\n",
       "      <td>30.835168</td>\n",
       "      <td>0.061116</td>\n",
       "      <td>0.144374</td>\n",
       "      <td>0.053477</td>\n",
       "      <td>0.047779</td>\n",
       "      <td>0.023436</td>\n",
       "      <td>0.396737</td>\n",
       "      <td>15.466788</td>\n",
       "      <td>2.888126</td>\n",
       "    </tr>\n",
       "  </tbody>\n",
       "</table>\n",
       "</div>"
      ],
      "text/plain": [
       "                      Age  Scholarship  Hypertension  Diabetes  Alcoholism  \\\n",
       "No-show Gender                                                               \n",
       "Attend  F       39.591126     0.117862      0.221539  0.080164    0.015984   \n",
       "        M       34.461372     0.049609      0.172696  0.062141    0.057102   \n",
       "Noshow  F       36.161264     0.144336      0.182099  0.069701    0.021109   \n",
       "        M       30.835168     0.061116      0.144374  0.053477    0.047779   \n",
       "\n",
       "                Handicap  SMS_received  wait_days   Weekday  \n",
       "No-show Gender                                               \n",
       "Attend  F       0.019792      0.305389   9.093318  2.856075  \n",
       "        M       0.028196      0.265358   8.128803  2.860022  \n",
       "Noshow  F       0.018505      0.460558  16.030635  2.847440  \n",
       "        M       0.023436      0.396737  15.466788  2.888126  "
      ]
     },
     "execution_count": 82,
     "metadata": {},
     "output_type": "execute_result"
    }
   ],
   "source": [
    "df.groupby(['No-show', 'Gender']).mean()"
   ]
  },
  {
   "cell_type": "markdown",
   "metadata": {},
   "source": [
    "###  Morbidity and No-show analysis"
   ]
  },
  {
   "cell_type": "code",
   "execution_count": 18,
   "metadata": {},
   "outputs": [
    {
     "data": {
      "image/png": "[encoded data removed]",
      "text/plain": [
       "<Figure size 432x288 with 1 Axes>"
      ]
     },
     "metadata": {},
     "output_type": "display_data"
    },
    {
     "name": "stdout",
     "output_type": "stream",
     "text": [
      "The percentage of patient that are: 19.726%\n",
      "The percentage of patient that are not :80.274%\n"
     ]
    },
    {
     "data": {
      "image/png": "[encoded data removed]",
      "text/plain": [
       "<Figure size 432x288 with 1 Axes>"
      ]
     },
     "metadata": {},
     "output_type": "display_data"
    },
    {
     "name": "stdout",
     "output_type": "stream",
     "text": [
      "The percentage of patient that are: 7.187%\n",
      "The percentage of patient that are not :92.813%\n"
     ]
    },
    {
     "data": {
      "image/png": "[encoded data removed]",
      "text/plain": [
       "<Figure size 432x288 with 1 Axes>"
      ]
     },
     "metadata": {},
     "output_type": "display_data"
    },
    {
     "name": "stdout",
     "output_type": "stream",
     "text": [
      "The percentage of patient that are: 3.04%\n",
      "The percentage of patient that are not :96.96%\n"
     ]
    },
    {
     "data": {
      "image/png": "[encoded data removed]",
      "text/plain": [
       "<Figure size 432x288 with 1 Axes>"
      ]
     },
     "metadata": {},
     "output_type": "display_data"
    },
    {
     "name": "stdout",
     "output_type": "stream",
     "text": [
      "The percentage of patient that are: 1.846%\n",
      "The percentage of patient that are not :97.974%\n"
     ]
    }
   ],
   "source": [
    "columns = ['Hypertension', 'Diabetes', 'Alcoholism', 'Handicap']\n",
    "for col in columns:\n",
    "    #plot\n",
    "    sns.set_style('whitegrid')\n",
    "    sns.set_context('paper')\n",
    "    sns.countplot(x = col, hue = 'No-show' ,data = df)\n",
    "    plt.title('Appointment attendance and ' +str(col), fontsize=15)\n",
    "    plt.xlabel(str(col), fontsize=12)\n",
    "    plt.ylabel('Patients', fontsize = 12)\n",
    "    plt.legend(loc=1, fontsize=12)\n",
    "    plt.show()\n",
    "    #ratio\n",
    "    col = df[col].value_counts()\n",
    "    percent_a = col[1]/col.sum() *100\n",
    "    percent_b = col[0]/col.sum() *100\n",
    "    print(\"The percentage of patient that are: {}%\".format(round(percent_a, 3)))\n",
    "    print(\"The percentage of patient that are not :{}%\".format(round(percent_b, 3)))"
   ]
  },
  {
   "cell_type": "markdown",
   "metadata": {},
   "source": [
    "We can see from the plots that the proportion of those who show vs no-show their appointments is similar across all morbidities plotted with the exception of handicap. Being handicapped likely leads to a higher no-show rate due to the increased difficulty of getting around and attending appointments.  However, the sample size is very small and would be difficult to deduce as the sole reason for the total no-show population. Having hypertension seems to be the largest morbidity in this dataset as almost 20% are hypertensive.  "
   ]
  },
  {
   "cell_type": "markdown",
   "metadata": {},
   "source": [
    "### Social systems and no-show analysis"
   ]
  },
  {
   "cell_type": "code",
   "execution_count": 44,
   "metadata": {},
   "outputs": [
    {
     "data": {
      "image/png": "[encoded data removed]",
      "text/plain": [
       "<Figure size 432x288 with 1 Axes>"
      ]
     },
     "metadata": {},
     "output_type": "display_data"
    },
    {
     "name": "stdout",
     "output_type": "stream",
     "text": [
      "The percentage of patient that are: 32.104%\n",
      "The percentage of patient that are not :67.896%\n"
     ]
    },
    {
     "data": {
      "image/png": "[encoded data removed]",
      "text/plain": [
       "<Figure size 432x288 with 1 Axes>"
      ]
     },
     "metadata": {},
     "output_type": "display_data"
    },
    {
     "name": "stdout",
     "output_type": "stream",
     "text": [
      "The percentage of patient that are: 9.827%\n",
      "The percentage of patient that are not :90.173%\n"
     ]
    }
   ],
   "source": [
    "columns = ['SMS_received', 'Scholarship']\n",
    "for col in columns:\n",
    "    #plot\n",
    "    sns.set_style('whitegrid')\n",
    "    sns.set_context('paper')\n",
    "    sns.countplot(x = col, hue = 'No-show' ,data = df)\n",
    "    plt.title('Appointment attendance and ' +str(col), fontsize=15)\n",
    "    plt.xlabel(str(col), fontsize=12)\n",
    "    plt.ylabel('Patients', fontsize = 12)\n",
    "    plt.legend(loc=1, fontsize=12)\n",
    "    plt.show()\n",
    "    #ratio\n",
    "    col = df[col].value_counts()\n",
    "    percent_a = col[1]/col.sum() *100\n",
    "    percent_b = col[0]/col.sum() *100\n",
    "    print(\"The percentage of patient that are: {}%\".format(round(percent_a, 3)))\n",
    "    print(\"The percentage of patient that are not :{}%\".format(round(percent_b, 3)))"
   ]
  },
  {
   "cell_type": "markdown",
   "metadata": {},
   "source": [
    "It seems that receiving an SMS notification has virtually no effect on preventing no-shows.  Additionally, having a scholarship (welfare) doesn't have an effect on no-shows.  However, its important to note that the population on welfare (almost 10%) is small relative to those that do not hold scholarship."
   ]
  },
  {
   "cell_type": "markdown",
   "metadata": {},
   "source": [
    "### Age and no-show analysis\n"
   ]
  },
  {
   "cell_type": "code",
   "execution_count": 48,
   "metadata": {},
   "outputs": [],
   "source": [
    "def age_group(x):\n",
    "    if x <= 3:\n",
    "        return 'infant'\n",
    "    elif x <=11:\n",
    "        return 'child'\n",
    "    elif x <= 18:\n",
    "        return 'teen'\n",
    "    elif x <= 26:\n",
    "        return 'young adult'\n",
    "    elif x <= 46:\n",
    "        return 'adult'\n",
    "    elif x <= 70:\n",
    "        return 'middle aged'\n",
    "    else:\n",
    "        return 'elderly'"
   ]
  },
  {
   "cell_type": "code",
   "execution_count": 49,
   "metadata": {},
   "outputs": [],
   "source": [
    "df['Age_group'] = df['Age'].apply(lambda x: age_group(x))"
   ]
  },
  {
   "cell_type": "code",
   "execution_count": 69,
   "metadata": {},
   "outputs": [
    {
     "data": {
      "text/plain": [
       "Index(['Gender', 'ScheduledDay', 'AppointmentDay', 'Age', 'Neighborhood',\n",
       "       'Scholarship', 'Hypertension', 'Diabetes', 'Alcoholism', 'Handicap',\n",
       "       'SMS_received', 'No-show', 'wait_days', 'Weekday', 'Age_group'],\n",
       "      dtype='object')"
      ]
     },
     "execution_count": 69,
     "metadata": {},
     "output_type": "execute_result"
    }
   ],
   "source": [
    "df.columns"
   ]
  },
  {
   "cell_type": "code",
   "execution_count": 51,
   "metadata": {},
   "outputs": [
    {
     "data": {
      "image/png": "[encoded data removed]",
      "text/plain": [
       "<Figure size 720x720 with 1 Axes>"
      ]
     },
     "metadata": {},
     "output_type": "display_data"
    }
   ],
   "source": [
    "sns.set_style('whitegrid')\n",
    "sns.set_context('paper')\n",
    "plt.figure(figsize=(10, 10))\n",
    "sns.countplot(x='Age_group', hue = 'No-show', data = df)\n",
    "plt.title('Age groups and No-show', fontsize =15)\n",
    "plt.xlabel('Age groups', fontsize =14)\n",
    "plt.ylabel('Patients', fontsize = 14)\n",
    "plt.tick_params(axis='both', which='major', labelsize=10)\n",
    "#plt.xlim(-1, 14)  #2 weeks\n",
    "plt.legend(loc=1, fontsize=12)\n",
    "plt.show()"
   ]
  },
  {
   "cell_type": "markdown",
   "metadata": {},
   "source": [
    "We can see that the 2 largest age groups are adults and middle aged groups.  As expected, the ratios of no-shows seems stable across all groups.  Looking at the plot, when comparing the other younger groups, the elderly seem to have a better ratio of attending their appointments. "
   ]
  },
  {
   "cell_type": "code",
   "execution_count": 68,
   "metadata": {},
   "outputs": [
    {
     "data": {
      "image/png": "[encoded data removed]",
      "text/plain": [
       "<Figure size 720x720 with 1 Axes>"
      ]
     },
     "metadata": {},
     "output_type": "display_data"
    }
   ],
   "source": [
    "sns.set_style('whitegrid')\n",
    "sns.set_context('paper')\n",
    "plt.figure(figsize=(10, 10))\n",
    "sns.barplot(x='wait_days', y='Age_group' ,hue = 'No-show', data = df)\n",
    "plt.title('Age groups waiting for their appointment', fontsize =15)\n",
    "plt.xlabel('Days waiting', fontsize =14)\n",
    "plt.ylabel('Age Groups', fontsize = 14)\n",
    "plt.tick_params(axis='both', which='major', labelsize=10)\n",
    "plt.legend(loc=1, fontsize=12)\n",
    "plt.show()"
   ]
  },
  {
   "cell_type": "markdown",
   "metadata": {},
   "source": [
    "Here we can see a breakdown of age groups and their likelihood of missing their appointment after waiting a certain number of days. If the window between scheduled date and appointment date is larger than 7-10 days, its extremely likely that the patient will miss their appointment. "
   ]
  },
  {
   "cell_type": "code",
   "execution_count": 78,
   "metadata": {},
   "outputs": [
    {
     "data": {
      "image/png": "[encoded data removed]",
      "text/plain": [
       "<Figure size 576x576 with 1 Axes>"
      ]
     },
     "metadata": {},
     "output_type": "display_data"
    }
   ],
   "source": [
    "col = ['Gender']\n",
    "for c in col:\n",
    "    sns.set_style('whitegrid')\n",
    "    sns.set_context('paper')\n",
    "    plt.figure(figsize=(8, 8))\n",
    "    sns.barplot(x='wait_days', y=c ,hue = 'No-show', data = df)\n",
    "    plt.title('Gender groups waiting for their appointment', fontsize =15)\n",
    "    plt.xlabel('Days waiting', fontsize =14)\n",
    "    plt.ylabel('Age Groups', fontsize = 14)\n",
    "    plt.tick_params(axis='both', which='major', labelsize=10)\n",
    "    plt.legend(loc=1, fontsize=12)\n",
    "    plt.show()"
   ]
  },
  {
   "cell_type": "markdown",
   "metadata": {},
   "source": [
    "A similar observation can be seen when comparing gender groups.  It seem that after an 8 day period, the patient is very likely to miss the appointment"
   ]
  },
  {
   "cell_type": "markdown",
   "metadata": {},
   "source": [
    "### Day of the week and no-show analysis"
   ]
  },
  {
   "cell_type": "code",
   "execution_count": 41,
   "metadata": {},
   "outputs": [
    {
     "data": {
      "image/png": "[encoded data removed]",
      "text/plain": [
       "<Figure size 720x720 with 1 Axes>"
      ]
     },
     "metadata": {},
     "output_type": "display_data"
    }
   ],
   "source": [
    "# weekday and attendance\n",
    "sns.set_style('whitegrid')\n",
    "sns.set_context('paper')\n",
    "plt.figure(figsize=(10,10))\n",
    "sns.countplot(x='Weekday', hue = 'No-show', data = df)\n",
    "plt.xlabel('Weekday', fontsize =14)\n",
    "plt.ylabel('Patients', fontsize = 14)\n",
    "plt.legend(loc=1, fontsize=12)\n",
    "plt.show()"
   ]
  },
  {
   "cell_type": "markdown",
   "metadata": {},
   "source": [
    "During the week we can see that the ratio of attendance to no-shows is stable. "
   ]
  },
  {
   "cell_type": "code",
   "execution_count": 73,
   "metadata": {},
   "outputs": [
    {
     "data": {
      "image/png": "[encoded data removed]",
      "text/plain": [
       "<Figure size 1440x720 with 1 Axes>"
      ]
     },
     "metadata": {},
     "output_type": "display_data"
    }
   ],
   "source": [
    "sns.set_style('whitegrid')\n",
    "sns.set_context('paper')\n",
    "plt.figure(figsize=(20,10))\n",
    "sns.countplot(x='wait_days', hue = 'No-show', data = df)\n",
    "plt.xlabel('Days between Scheduled & Appt', fontsize =14)\n",
    "plt.ylabel('Patients', fontsize = 14)\n",
    "plt.tick_params(axis='both', which='major', labelsize=10)\n",
    "plt.xlim(-0.5, 10.5)  #2 weeks\n",
    "plt.legend(loc=1, fontsize=12)\n",
    "plt.show()"
   ]
  },
  {
   "cell_type": "markdown",
   "metadata": {},
   "source": [
    "Interestingly, the system seems to prefer an scheduling an appointment on the same day, unless most of these are just walk-ins are emergency visits.  This matches up with our previous plot where we saw that an 8 day window seemed to be the cut-off point as to whether the patient will miss an appointment.  "
   ]
  },
  {
   "cell_type": "code",
   "execution_count": 83,
   "metadata": {},
   "outputs": [
    {
     "data": {
      "text/html": [
       "<div>\n",
       "<style scoped>\n",
       "    .dataframe tbody tr th:only-of-type {\n",
       "        vertical-align: middle;\n",
       "    }\n",
       "\n",
       "    .dataframe tbody tr th {\n",
       "        vertical-align: top;\n",
       "    }\n",
       "\n",
       "    .dataframe thead th {\n",
       "        text-align: right;\n",
       "    }\n",
       "</style>\n",
       "<table border=\"1\" class=\"dataframe\">\n",
       "  <thead>\n",
       "    <tr style=\"text-align: right;\">\n",
       "      <th></th>\n",
       "      <th></th>\n",
       "      <th>Age</th>\n",
       "      <th>Scholarship</th>\n",
       "      <th>Hypertension</th>\n",
       "      <th>Diabetes</th>\n",
       "      <th>Alcoholism</th>\n",
       "      <th>Handicap</th>\n",
       "      <th>SMS_received</th>\n",
       "      <th>wait_days</th>\n",
       "    </tr>\n",
       "    <tr>\n",
       "      <th>No-show</th>\n",
       "      <th>Weekday</th>\n",
       "      <th></th>\n",
       "      <th></th>\n",
       "      <th></th>\n",
       "      <th></th>\n",
       "      <th></th>\n",
       "      <th></th>\n",
       "      <th></th>\n",
       "      <th></th>\n",
       "    </tr>\n",
       "  </thead>\n",
       "  <tbody>\n",
       "    <tr>\n",
       "      <th rowspan=\"6\" valign=\"top\">Attend</th>\n",
       "      <th>1</th>\n",
       "      <td>37.466545</td>\n",
       "      <td>0.093486</td>\n",
       "      <td>0.199567</td>\n",
       "      <td>0.068964</td>\n",
       "      <td>0.030182</td>\n",
       "      <td>0.021249</td>\n",
       "      <td>0.288116</td>\n",
       "      <td>9.109410</td>\n",
       "    </tr>\n",
       "    <tr>\n",
       "      <th>2</th>\n",
       "      <td>37.847813</td>\n",
       "      <td>0.094787</td>\n",
       "      <td>0.207390</td>\n",
       "      <td>0.077118</td>\n",
       "      <td>0.028016</td>\n",
       "      <td>0.022843</td>\n",
       "      <td>0.366361</td>\n",
       "      <td>8.645109</td>\n",
       "    </tr>\n",
       "    <tr>\n",
       "      <th>3</th>\n",
       "      <td>37.872052</td>\n",
       "      <td>0.093867</td>\n",
       "      <td>0.201935</td>\n",
       "      <td>0.072591</td>\n",
       "      <td>0.031482</td>\n",
       "      <td>0.021084</td>\n",
       "      <td>0.310629</td>\n",
       "      <td>8.740156</td>\n",
       "    </tr>\n",
       "    <tr>\n",
       "      <th>4</th>\n",
       "      <td>37.837443</td>\n",
       "      <td>0.094256</td>\n",
       "      <td>0.209001</td>\n",
       "      <td>0.071968</td>\n",
       "      <td>0.029981</td>\n",
       "      <td>0.024301</td>\n",
       "      <td>0.249551</td>\n",
       "      <td>8.199224</td>\n",
       "    </tr>\n",
       "    <tr>\n",
       "      <th>5</th>\n",
       "      <td>37.914364</td>\n",
       "      <td>0.092911</td>\n",
       "      <td>0.204646</td>\n",
       "      <td>0.078494</td>\n",
       "      <td>0.032839</td>\n",
       "      <td>0.025230</td>\n",
       "      <td>0.204579</td>\n",
       "      <td>9.023628</td>\n",
       "    </tr>\n",
       "    <tr>\n",
       "      <th>6</th>\n",
       "      <td>53.200000</td>\n",
       "      <td>0.100000</td>\n",
       "      <td>0.500000</td>\n",
       "      <td>0.166667</td>\n",
       "      <td>0.066667</td>\n",
       "      <td>0.033333</td>\n",
       "      <td>0.333333</td>\n",
       "      <td>3.966667</td>\n",
       "    </tr>\n",
       "    <tr>\n",
       "      <th rowspan=\"6\" valign=\"top\">Noshow</th>\n",
       "      <th>1</th>\n",
       "      <td>34.371081</td>\n",
       "      <td>0.114097</td>\n",
       "      <td>0.169119</td>\n",
       "      <td>0.069951</td>\n",
       "      <td>0.034122</td>\n",
       "      <td>0.020047</td>\n",
       "      <td>0.416080</td>\n",
       "      <td>17.490723</td>\n",
       "    </tr>\n",
       "    <tr>\n",
       "      <th>2</th>\n",
       "      <td>34.927767</td>\n",
       "      <td>0.120194</td>\n",
       "      <td>0.171262</td>\n",
       "      <td>0.057282</td>\n",
       "      <td>0.031845</td>\n",
       "      <td>0.022718</td>\n",
       "      <td>0.563495</td>\n",
       "      <td>15.496893</td>\n",
       "    </tr>\n",
       "    <tr>\n",
       "      <th>3</th>\n",
       "      <td>33.699921</td>\n",
       "      <td>0.115279</td>\n",
       "      <td>0.166143</td>\n",
       "      <td>0.062058</td>\n",
       "      <td>0.026709</td>\n",
       "      <td>0.020228</td>\n",
       "      <td>0.472702</td>\n",
       "      <td>14.967989</td>\n",
       "    </tr>\n",
       "    <tr>\n",
       "      <th>4</th>\n",
       "      <td>34.737788</td>\n",
       "      <td>0.103986</td>\n",
       "      <td>0.168115</td>\n",
       "      <td>0.060533</td>\n",
       "      <td>0.030267</td>\n",
       "      <td>0.021277</td>\n",
       "      <td>0.412346</td>\n",
       "      <td>15.542703</td>\n",
       "    </tr>\n",
       "    <tr>\n",
       "      <th>5</th>\n",
       "      <td>33.864503</td>\n",
       "      <td>0.121377</td>\n",
       "      <td>0.169928</td>\n",
       "      <td>0.071092</td>\n",
       "      <td>0.028734</td>\n",
       "      <td>0.016349</td>\n",
       "      <td>0.283626</td>\n",
       "      <td>15.704979</td>\n",
       "    </tr>\n",
       "    <tr>\n",
       "      <th>6</th>\n",
       "      <td>54.888889</td>\n",
       "      <td>0.000000</td>\n",
       "      <td>0.444444</td>\n",
       "      <td>0.222222</td>\n",
       "      <td>0.000000</td>\n",
       "      <td>0.000000</td>\n",
       "      <td>0.333333</td>\n",
       "      <td>5.111111</td>\n",
       "    </tr>\n",
       "  </tbody>\n",
       "</table>\n",
       "</div>"
      ],
      "text/plain": [
       "                       Age  Scholarship  Hypertension  Diabetes  Alcoholism  \\\n",
       "No-show Weekday                                                               \n",
       "Attend  1        37.466545     0.093486      0.199567  0.068964    0.030182   \n",
       "        2        37.847813     0.094787      0.207390  0.077118    0.028016   \n",
       "        3        37.872052     0.093867      0.201935  0.072591    0.031482   \n",
       "        4        37.837443     0.094256      0.209001  0.071968    0.029981   \n",
       "        5        37.914364     0.092911      0.204646  0.078494    0.032839   \n",
       "        6        53.200000     0.100000      0.500000  0.166667    0.066667   \n",
       "Noshow  1        34.371081     0.114097      0.169119  0.069951    0.034122   \n",
       "        2        34.927767     0.120194      0.171262  0.057282    0.031845   \n",
       "        3        33.699921     0.115279      0.166143  0.062058    0.026709   \n",
       "        4        34.737788     0.103986      0.168115  0.060533    0.030267   \n",
       "        5        33.864503     0.121377      0.169928  0.071092    0.028734   \n",
       "        6        54.888889     0.000000      0.444444  0.222222    0.000000   \n",
       "\n",
       "                 Handicap  SMS_received  wait_days  \n",
       "No-show Weekday                                     \n",
       "Attend  1        0.021249      0.288116   9.109410  \n",
       "        2        0.022843      0.366361   8.645109  \n",
       "        3        0.021084      0.310629   8.740156  \n",
       "        4        0.024301      0.249551   8.199224  \n",
       "        5        0.025230      0.204579   9.023628  \n",
       "        6        0.033333      0.333333   3.966667  \n",
       "Noshow  1        0.020047      0.416080  17.490723  \n",
       "        2        0.022718      0.563495  15.496893  \n",
       "        3        0.020228      0.472702  14.967989  \n",
       "        4        0.021277      0.412346  15.542703  \n",
       "        5        0.016349      0.283626  15.704979  \n",
       "        6        0.000000      0.333333   5.111111  "
      ]
     },
     "execution_count": 83,
     "metadata": {},
     "output_type": "execute_result"
    }
   ],
   "source": [
    "df.groupby(['No-show', 'Weekday']).mean()"
   ]
  },
  {
   "cell_type": "markdown",
   "metadata": {},
   "source": [
    "## Conclusion\n",
    "After cleaning the data and making a few changes, we explored the overall trends using descriptive stats.  Then made countplots utilizing seaborn.  When trying to compare 3 variables, we used seaborn barplot.  Overall, we didn't find any  significant reason for people missing their appointments, other than if they scheduled it over 8 days in advance.  We found a huge dropoff in attending appointments after the 8 day window. "
   ]
  },
  {
   "cell_type": "code",
   "execution_count": null,
   "metadata": {},
   "outputs": [],
   "source": []
  },
  {
   "cell_type": "code",
   "execution_count": null,
   "metadata": {},
   "outputs": [],
   "source": []
  },
  {
   "cell_type": "code",
   "execution_count": null,
   "metadata": {},
   "outputs": [],
   "source": []
  },
  {
   "cell_type": "code",
   "execution_count": null,
   "metadata": {},
   "outputs": [],
   "source": []
  },
  {
   "cell_type": "code",
   "execution_count": null,
   "metadata": {},
   "outputs": [],
   "source": []
  },
  {
   "cell_type": "code",
   "execution_count": null,
   "metadata": {},
   "outputs": [],
   "source": []
  }
 ],
 "metadata": {
  "kernelspec": {
   "display_name": "Python 3",
   "language": "python",
   "name": "python3"
  },
  "language_info": {
   "codemirror_mode": {
    "name": "ipython",
    "version": 3
   },
   "file_extension": ".py",
   "mimetype": "text/x-python",
   "name": "python",
   "nbconvert_exporter": "python",
   "pygments_lexer": "ipython3",
   "version": "3.6.4"
  }
 },
 "nbformat": 4,
 "nbformat_minor": 2
}
